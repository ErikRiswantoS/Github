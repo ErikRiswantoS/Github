{
 "cells": [
  {
   "cell_type": "markdown",
   "id": "f152bc08",
   "metadata": {},
   "source": [
    "<h1 style=\"color:aqua;text-shadow:4px 4px 4px rgb; (0,  0, 1);text-family:hevitica;\">Erik Riswanto Saputra</h1>\n",
    "<h1 style=\"color:aqua;text-shadow:4px 4px 4px rgb(0,  0, 1);\">20220040226</h1>\n",
    "<h1 style=\"color:aqua;text-shadow:4px 4px 4px rgb(0,  0, 1);\">TI 22 H</h1>"
   ]
  },
  {
   "cell_type": "code",
   "execution_count": 1,
   "id": "0fbe57d2",
   "metadata": {},
   "outputs": [
    {
     "name": "stdout",
     "output_type": "stream",
     "text": [
      "masukan kalimat anda:  Universitas Nusa Putera\n",
      "Total kalimat: UNIVERSITAS NUSA PUTERA\n",
      "    A ->  3\n",
      "    I ->  2\n",
      "    U ->  3\n",
      "    E ->  2\n",
      "    O ->  0\n",
      "\n",
      "Total Jumlah Huruf Vokal  = 10\n"
     ]
    }
   ],
   "source": [
    "# Membuat Kalimat jumlah huruf vokal bersama saya erik riswanto saputra\n",
    "\n",
    "\n",
    "kalimat = input('masukan kalimat anda:  ').upper()\n",
    "huruf_Vokal  = {\n",
    "    'A' : 0,\n",
    "    'I' : 0,\n",
    "    'U' : 0,\n",
    "    'E' : 0,\n",
    "    'O' : 0\n",
    "}\n",
    "total_huruf_vokal = 0\n",
    "for  i in kalimat :\n",
    "    if  i in ['A', 'I', 'U', 'E', 'O',]:\n",
    "        huruf_Vokal[i] += 1\n",
    "        total_huruf_vokal += 1\n",
    "print(f'Total kalimat: {kalimat}')\n",
    "print(f\"\"\"\\\n",
    "    A ->  {huruf_Vokal['A']}\n",
    "    I ->  {huruf_Vokal['I']}\n",
    "    U ->  {huruf_Vokal['U']}\n",
    "    E ->  {huruf_Vokal['E']}\n",
    "    O ->  {huruf_Vokal['O']}\n",
    "\"\"\")\n",
    "print(f'Total Jumlah Huruf Vokal  = {total_huruf_vokal}')"
   ]
  },
  {
   "cell_type": "code",
   "execution_count": 2,
   "id": "a3228a52",
   "metadata": {},
   "outputs": [
    {
     "name": "stdout",
     "output_type": "stream",
     "text": [
      "Input:  Lupa-Lupa Ingat\n",
      "Input:  LUPA-LUPA INGAT\n",
      "output:  TAGNI APUL-APUL\n"
     ]
    }
   ],
   "source": [
    "# Membalikan Kalimat  \n",
    "def reverse(s):\n",
    "    str =\"\"\n",
    "    for i in  s:\n",
    "        str =  i  + str\n",
    "    return str\n",
    "s = input('Input:  ').upper()\n",
    "print('Input:  ',end=\"\")\n",
    "print(s)\n",
    "print('output:  ',end=\"\")\n",
    "print(reverse(s))"
   ]
  },
  {
   "cell_type": "code",
   "execution_count": null,
   "id": "602c113d",
   "metadata": {},
   "outputs": [],
   "source": []
  }
 ],
 "metadata": {
  "kernelspec": {
   "display_name": "Python 3 (ipykernel)",
   "language": "python",
   "name": "python3"
  },
  "language_info": {
   "codemirror_mode": {
    "name": "ipython",
    "version": 3
   },
   "file_extension": ".py",
   "mimetype": "text/x-python",
   "name": "python",
   "nbconvert_exporter": "python",
   "pygments_lexer": "ipython3",
   "version": "3.9.13"
  }
 },
 "nbformat": 4,
 "nbformat_minor": 5
}
